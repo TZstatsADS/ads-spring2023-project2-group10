{
  "nbformat": 4,
  "nbformat_minor": 0,
  "metadata": {
    "colab": {
      "provenance": []
    },
    "kernelspec": {
      "name": "python3",
      "display_name": "Python 3"
    },
    "language_info": {
      "name": "python"
    }
  },
  "cells": [
    {
      "cell_type": "code",
      "execution_count": 2,
      "metadata": {
        "id": "CxixBuDvkpFh"
      },
      "outputs": [],
      "source": [
        "import pandas as pd\n",
        "lop = pd.read_csv('../data/Legally_Operating_Businesses_raw.csv')\n",
        "lop['License Expiration Date'] = pd.to_datetime(lop['License Expiration Date'], infer_datetime_format=True)\n",
        "lop['License Creation Date'] = pd.to_datetime(lop['License Creation Date'], infer_datetime_format=True)"
      ]
    },
    {
      "cell_type": "code",
      "source": [
        "dates = [[2019,7,1],[2020,1,1],[2020,7,1],[2021,1,1],[2021,7,1],[2022,1,1],[2022,7,1],[2023,1,1]]\n",
        "df = pd.DataFrame(columns=['index','Address ZIP','year'])\n",
        "# Getting the count of businesses per ZIP code for the dates listed above\n",
        "for i in dates:\n",
        "  newdf = pd.DataFrame(lop[\n",
        "      (lop['License Creation Date'] < pd.Timestamp(year=i[0],month=i[1],day=i[2])) &\n",
        "      (lop['License Expiration Date'] > pd.Timestamp(year=i[0],month=i[1],day=i[2]))\n",
        "           ]['Address ZIP'].value_counts()).reset_index()\n",
        "  newdf['year'] = pd.Timestamp(year=i[0],month=i[1],day=i[2])\n",
        "  df = pd.concat([df,\n",
        "                 newdf]\n",
        "                 )"
      ],
      "metadata": {
        "id": "cboFTDyhk3g8"
      },
      "execution_count": null,
      "outputs": []
    },
    {
      "cell_type": "code",
      "source": [
        "# remove junk rows and rename columns\n",
        "df = df[df['Address ZIP'] > 1].rename(columns={'index':'region','Address ZIP':'value'}) #.to_csv('Cleaned_LOP.csv',index=False)"
      ],
      "metadata": {
        "id": "XeH2vR7jlAUB"
      },
      "execution_count": null,
      "outputs": []
    },
    {
      "cell_type": "code",
      "source": [
        "# Convert the dates into purely numeric form\n",
        "df['year'] = df['year'].apply(lambda x: x.year + (x.month - 1)/12)\n",
        "df.to_csv('../data/Cleaned_LOP_numeric_year.csv',index=False)"
      ],
      "metadata": {
        "id": "vVAQfET-lCy_"
      },
      "execution_count": null,
      "outputs": []
    }
  ]
}